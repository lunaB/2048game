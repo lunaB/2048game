{
  "nbformat": 4,
  "nbformat_minor": 0,
  "metadata": {
    "colab": {
      "name": "6_mnist_dnn.ipynb",
      "provenance": [],
      "authorship_tag": "ABX9TyORQEQAqG67HuUK2NWsoCzl",
      "include_colab_link": true
    },
    "kernelspec": {
      "name": "python3",
      "display_name": "Python 3"
    },
    "widgets": {
      "application/vnd.jupyter.widget-state+json": {
        "3c547783f390493cbc012a965c7adcd6": {
          "model_module": "@jupyter-widgets/controls",
          "model_name": "HBoxModel",
          "state": {
            "_view_name": "HBoxView",
            "_dom_classes": [],
            "_model_name": "HBoxModel",
            "_view_module": "@jupyter-widgets/controls",
            "_model_module_version": "1.5.0",
            "_view_count": null,
            "_view_module_version": "1.5.0",
            "box_style": "",
            "layout": "IPY_MODEL_d9a3e26d86694fd8b3087f8e2d019736",
            "_model_module": "@jupyter-widgets/controls",
            "children": [
              "IPY_MODEL_08d1a6d21ca94b0dbb86e04631891ed7",
              "IPY_MODEL_45eb7879482e48ee94456c61c9f461d6"
            ]
          }
        },
        "d9a3e26d86694fd8b3087f8e2d019736": {
          "model_module": "@jupyter-widgets/base",
          "model_name": "LayoutModel",
          "state": {
            "_view_name": "LayoutView",
            "grid_template_rows": null,
            "right": null,
            "justify_content": null,
            "_view_module": "@jupyter-widgets/base",
            "overflow": null,
            "_model_module_version": "1.2.0",
            "_view_count": null,
            "flex_flow": null,
            "width": null,
            "min_width": null,
            "border": null,
            "align_items": null,
            "bottom": null,
            "_model_module": "@jupyter-widgets/base",
            "top": null,
            "grid_column": null,
            "overflow_y": null,
            "overflow_x": null,
            "grid_auto_flow": null,
            "grid_area": null,
            "grid_template_columns": null,
            "flex": null,
            "_model_name": "LayoutModel",
            "justify_items": null,
            "grid_row": null,
            "max_height": null,
            "align_content": null,
            "visibility": null,
            "align_self": null,
            "height": null,
            "min_height": null,
            "padding": null,
            "grid_auto_rows": null,
            "grid_gap": null,
            "max_width": null,
            "order": null,
            "_view_module_version": "1.2.0",
            "grid_template_areas": null,
            "object_position": null,
            "object_fit": null,
            "grid_auto_columns": null,
            "margin": null,
            "display": null,
            "left": null
          }
        },
        "08d1a6d21ca94b0dbb86e04631891ed7": {
          "model_module": "@jupyter-widgets/controls",
          "model_name": "IntProgressModel",
          "state": {
            "_view_name": "ProgressView",
            "style": "IPY_MODEL_4f69ea4e8f994e4d889b282ea04afac7",
            "_dom_classes": [],
            "description": "",
            "_model_name": "IntProgressModel",
            "bar_style": "success",
            "max": 16,
            "_view_module": "@jupyter-widgets/controls",
            "_model_module_version": "1.5.0",
            "value": 16,
            "_view_count": null,
            "_view_module_version": "1.5.0",
            "orientation": "horizontal",
            "min": 0,
            "description_tooltip": null,
            "_model_module": "@jupyter-widgets/controls",
            "layout": "IPY_MODEL_971fde8d4e8441ffb99ae7e67f4e6b00"
          }
        },
        "45eb7879482e48ee94456c61c9f461d6": {
          "model_module": "@jupyter-widgets/controls",
          "model_name": "HTMLModel",
          "state": {
            "_view_name": "HTMLView",
            "style": "IPY_MODEL_16d1848a3dbc4b669108d2a53955e02f",
            "_dom_classes": [],
            "description": "",
            "_model_name": "HTMLModel",
            "placeholder": "​",
            "_view_module": "@jupyter-widgets/controls",
            "_model_module_version": "1.5.0",
            "value": "100% 16/16 [01:25&lt;00:00,  5.45s/it]",
            "_view_count": null,
            "_view_module_version": "1.5.0",
            "description_tooltip": null,
            "_model_module": "@jupyter-widgets/controls",
            "layout": "IPY_MODEL_95253886a9d04e12857131947016ff42"
          }
        },
        "4f69ea4e8f994e4d889b282ea04afac7": {
          "model_module": "@jupyter-widgets/controls",
          "model_name": "ProgressStyleModel",
          "state": {
            "_view_name": "StyleView",
            "_model_name": "ProgressStyleModel",
            "description_width": "",
            "_view_module": "@jupyter-widgets/base",
            "_model_module_version": "1.5.0",
            "_view_count": null,
            "_view_module_version": "1.2.0",
            "bar_color": null,
            "_model_module": "@jupyter-widgets/controls"
          }
        },
        "971fde8d4e8441ffb99ae7e67f4e6b00": {
          "model_module": "@jupyter-widgets/base",
          "model_name": "LayoutModel",
          "state": {
            "_view_name": "LayoutView",
            "grid_template_rows": null,
            "right": null,
            "justify_content": null,
            "_view_module": "@jupyter-widgets/base",
            "overflow": null,
            "_model_module_version": "1.2.0",
            "_view_count": null,
            "flex_flow": null,
            "width": null,
            "min_width": null,
            "border": null,
            "align_items": null,
            "bottom": null,
            "_model_module": "@jupyter-widgets/base",
            "top": null,
            "grid_column": null,
            "overflow_y": null,
            "overflow_x": null,
            "grid_auto_flow": null,
            "grid_area": null,
            "grid_template_columns": null,
            "flex": null,
            "_model_name": "LayoutModel",
            "justify_items": null,
            "grid_row": null,
            "max_height": null,
            "align_content": null,
            "visibility": null,
            "align_self": null,
            "height": null,
            "min_height": null,
            "padding": null,
            "grid_auto_rows": null,
            "grid_gap": null,
            "max_width": null,
            "order": null,
            "_view_module_version": "1.2.0",
            "grid_template_areas": null,
            "object_position": null,
            "object_fit": null,
            "grid_auto_columns": null,
            "margin": null,
            "display": null,
            "left": null
          }
        },
        "16d1848a3dbc4b669108d2a53955e02f": {
          "model_module": "@jupyter-widgets/controls",
          "model_name": "DescriptionStyleModel",
          "state": {
            "_view_name": "StyleView",
            "_model_name": "DescriptionStyleModel",
            "description_width": "",
            "_view_module": "@jupyter-widgets/base",
            "_model_module_version": "1.5.0",
            "_view_count": null,
            "_view_module_version": "1.2.0",
            "_model_module": "@jupyter-widgets/controls"
          }
        },
        "95253886a9d04e12857131947016ff42": {
          "model_module": "@jupyter-widgets/base",
          "model_name": "LayoutModel",
          "state": {
            "_view_name": "LayoutView",
            "grid_template_rows": null,
            "right": null,
            "justify_content": null,
            "_view_module": "@jupyter-widgets/base",
            "overflow": null,
            "_model_module_version": "1.2.0",
            "_view_count": null,
            "flex_flow": null,
            "width": null,
            "min_width": null,
            "border": null,
            "align_items": null,
            "bottom": null,
            "_model_module": "@jupyter-widgets/base",
            "top": null,
            "grid_column": null,
            "overflow_y": null,
            "overflow_x": null,
            "grid_auto_flow": null,
            "grid_area": null,
            "grid_template_columns": null,
            "flex": null,
            "_model_name": "LayoutModel",
            "justify_items": null,
            "grid_row": null,
            "max_height": null,
            "align_content": null,
            "visibility": null,
            "align_self": null,
            "height": null,
            "min_height": null,
            "padding": null,
            "grid_auto_rows": null,
            "grid_gap": null,
            "max_width": null,
            "order": null,
            "_view_module_version": "1.2.0",
            "grid_template_areas": null,
            "object_position": null,
            "object_fit": null,
            "grid_auto_columns": null,
            "margin": null,
            "display": null,
            "left": null
          }
        }
      }
    },
    "accelerator": "GPU"
  },
  "cells": [
    {
      "cell_type": "markdown",
      "metadata": {
        "id": "view-in-github",
        "colab_type": "text"
      },
      "source": [
        "<a href=\"https://colab.research.google.com/github/lunaB/2048game/blob/master/6_mnist_dnn.ipynb\" target=\"_parent\"><img src=\"https://colab.research.google.com/assets/colab-badge.svg\" alt=\"Open In Colab\"/></a>"
      ]
    },
    {
      "cell_type": "code",
      "metadata": {
        "id": "hfXolNHTMLJ-",
        "colab_type": "code",
        "colab": {}
      },
      "source": [
        "import torch\n",
        "import torch.nn as nn\n",
        "import torch.nn.functional as F\n",
        "import torch.optim as optim\n",
        "import torchvision.datasets as datasets\n",
        "import torchvision.transforms as transforms\n",
        "\n",
        "import matplotlib.pyplot as plt\n",
        "from tqdm import tqdm_notebook\n",
        "\n",
        "\n",
        "torch.manual_seed(1)\n",
        "device = 'cuda' if torch.cuda.is_available() else 'cpu'\n",
        "if device == 'cuda':\n",
        "    torch.cuda.manual_seed_all(1)"
      ],
      "execution_count": 0,
      "outputs": []
    },
    {
      "cell_type": "code",
      "metadata": {
        "id": "DIfKn6zlf7UL",
        "colab_type": "code",
        "colab": {}
      },
      "source": [
        "mnist_train = datasets.MNIST(root='MNIST_data/',\n",
        "                          train=True,\n",
        "                          transform=transforms.ToTensor(),\n",
        "                          download=True)\n",
        "\n",
        "mnist_test = datasets.MNIST(root='MNIST_data/',\n",
        "                         train=False,\n",
        "                         transform=transforms.ToTensor(),\n",
        "                         download=True)"
      ],
      "execution_count": 0,
      "outputs": []
    },
    {
      "cell_type": "code",
      "metadata": {
        "id": "UekC6ZuocU5X",
        "colab_type": "code",
        "outputId": "285163b1-5cc9-4f72-899b-728d672f02ef",
        "colab": {
          "base_uri": "https://localhost:8080/",
          "height": 155
        }
      },
      "source": [
        "print(mnist_train)\n",
        "print(mnist_train.data.shape)\n",
        "print(mnist_train.targets.shape)"
      ],
      "execution_count": 3,
      "outputs": [
        {
          "output_type": "stream",
          "text": [
            "Dataset MNIST\n",
            "    Number of datapoints: 60000\n",
            "    Root location: MNIST_data/\n",
            "    Split: Train\n",
            "    StandardTransform\n",
            "Transform: ToTensor()\n",
            "torch.Size([60000, 28, 28])\n",
            "torch.Size([60000])\n"
          ],
          "name": "stdout"
        }
      ]
    },
    {
      "cell_type": "code",
      "metadata": {
        "id": "znjdLQXxnxCU",
        "colab_type": "code",
        "colab": {}
      },
      "source": [
        "dataloader = torch.utils.data.DataLoader(mnist_train, 100, shuffle=True, drop_last=True)"
      ],
      "execution_count": 0,
      "outputs": []
    },
    {
      "cell_type": "code",
      "metadata": {
        "id": "lo3u-A6tbuda",
        "colab_type": "code",
        "colab": {}
      },
      "source": [
        "class MnistModel(nn.Module):\n",
        "    def __init__(self):\n",
        "        super(MnistModel, self).__init__()\n",
        "\n",
        "        self.linear1 = nn.Linear(28*28, 512, bias=True)\n",
        "        self.linear2 = nn.Linear(512, 512, bias=True)\n",
        "        self.linear3 = nn.Linear(512, 10, bias=True)\n",
        "        \n",
        "        self.dropout = nn.Dropout(p = 0.5)\n",
        "        self.relu = nn.ReLU()\n",
        "        self.batchNorm1 = nn.BatchNorm1d(512)\n",
        "        self.batchNorm2 = nn.BatchNorm1d(512)\n",
        "        # self.batchNorm3 = nn.BatchNorm1d(10)\n",
        "\n",
        "        nn.init.xavier_normal_(self.linear1.weight)\n",
        "        nn.init.xavier_normal_(self.linear2.weight)\n",
        "        nn.init.xavier_normal_(self.linear3.weight)\n",
        "\n",
        "        self.layer = nn.Sequential(self.linear1, self.batchNorm1, self.relu, self.dropout,\n",
        "                                   self.linear2, self.batchNorm2, self.relu, self.dropout,\n",
        "                                   self.linear3).to(device)\n",
        "\n",
        "    def forward(self, x):\n",
        "        return self.layer(x)"
      ],
      "execution_count": 0,
      "outputs": []
    },
    {
      "cell_type": "code",
      "metadata": {
        "id": "9A-mZaW1Yw3d",
        "colab_type": "code",
        "outputId": "d39de9e3-e5f2-4dc3-f36f-f8034768cbd4",
        "colab": {
          "base_uri": "https://localhost:8080/",
          "height": 343,
          "referenced_widgets": [
            "3c547783f390493cbc012a965c7adcd6",
            "d9a3e26d86694fd8b3087f8e2d019736",
            "08d1a6d21ca94b0dbb86e04631891ed7",
            "45eb7879482e48ee94456c61c9f461d6",
            "4f69ea4e8f994e4d889b282ea04afac7",
            "971fde8d4e8441ffb99ae7e67f4e6b00",
            "16d1848a3dbc4b669108d2a53955e02f",
            "95253886a9d04e12857131947016ff42"
          ]
        }
      },
      "source": [
        "model = MnistModel()\n",
        "optimizer = optim.Adam(model.parameters(), lr=0.001)\n",
        "hist_train = []\n",
        "hist_test = []\n",
        "n_epoch = 15\n",
        "for epoch in tqdm_notebook(range(n_epoch+1)):\n",
        "    model.train()\n",
        "    batch_loss = 0\n",
        "    for idx, mini_batch in enumerate(dataloader):\n",
        "        x_train, y_train = mini_batch\n",
        "        x_train = x_train.view(-1,28*28).to(device)\n",
        "        y_train = y_train.to(device)\n",
        "        \n",
        "        pred = model(x_train)\n",
        "\n",
        "        loss = F.cross_entropy(pred, y_train)\n",
        "        optimizer.zero_grad()\n",
        "        loss.backward()\n",
        "        optimizer.step()\n",
        "\n",
        "        batch_loss += loss.item()\n",
        "\n",
        "    model.eval()\n",
        "    pred = model(mnist_train.data.view(-1,28*28).float().to(device)).detach()\n",
        "    hist_train.append((mnist_train.targets.to(device) == torch.argmax(pred, 1)).float().mean().item()*100)\n",
        "    \n",
        "    pred = model(mnist_test.data.view(-1,28*28).float().to(device)).detach()\n",
        "    hist_test.append((mnist_test.targets.to(device) == torch.argmax(pred, 1)).float().mean().item()*100)\n",
        "\n",
        "    print('epoch :',epoch, 'loss :', batch_loss/len(dataloader), 'train_acc :', hist_train[epoch], 'test_acc :', hist_test[epoch])\n",
        "    batch_loss = 0"
      ],
      "execution_count": 6,
      "outputs": [
        {
          "output_type": "display_data",
          "data": {
            "application/vnd.jupyter.widget-view+json": {
              "model_id": "3c547783f390493cbc012a965c7adcd6",
              "version_minor": 0,
              "version_major": 2
            },
            "text/plain": [
              "HBox(children=(IntProgress(value=0, max=16), HTML(value='')))"
            ]
          },
          "metadata": {
            "tags": []
          }
        },
        {
          "output_type": "stream",
          "text": [
            "epoch : 0 loss : 0.3405490971232454 train_acc : 95.50999999046326 test_acc : 95.36999464035034\n",
            "epoch : 1 loss : 0.17703972758104403 train_acc : 94.24333572387695 test_acc : 93.86000037193298\n",
            "epoch : 2 loss : 0.14300973338385423 train_acc : 91.99000000953674 test_acc : 91.3599967956543\n",
            "epoch : 3 loss : 0.11966588258122404 train_acc : 93.70166659355164 test_acc : 92.93999671936035\n",
            "epoch : 4 loss : 0.10834305963013321 train_acc : 91.40333533287048 test_acc : 90.4699981212616\n",
            "epoch : 5 loss : 0.09607460246266177 train_acc : 88.62167000770569 test_acc : 87.82999515533447\n",
            "epoch : 6 loss : 0.08796629140619189 train_acc : 94.89333629608154 test_acc : 93.88999938964844\n",
            "epoch : 7 loss : 0.08350360647852843 train_acc : 91.97333455085754 test_acc : 91.01999998092651\n",
            "epoch : 8 loss : 0.076971380704393 train_acc : 91.55499935150146 test_acc : 90.52000045776367\n",
            "epoch : 9 loss : 0.07388826903654262 train_acc : 92.76500344276428 test_acc : 91.70999526977539\n",
            "epoch : 10 loss : 0.06703692238700265 train_acc : 90.53166508674622 test_acc : 89.14999961853027\n",
            "epoch : 11 loss : 0.06255646187035988 train_acc : 92.67833232879639 test_acc : 91.59999489784241\n",
            "epoch : 12 loss : 0.06257023088634014 train_acc : 91.65499806404114 test_acc : 90.84999561309814\n",
            "epoch : 13 loss : 0.05529132136881041 train_acc : 92.96000003814697 test_acc : 91.95999503135681\n",
            "epoch : 14 loss : 0.055547925398374595 train_acc : 94.71666812896729 test_acc : 93.70999932289124\n",
            "epoch : 15 loss : 0.05249981326303289 train_acc : 92.11333394050598 test_acc : 90.62999486923218\n",
            "\n"
          ],
          "name": "stdout"
        }
      ]
    },
    {
      "cell_type": "code",
      "metadata": {
        "id": "pIO9P-tjxF5o",
        "colab_type": "code",
        "colab": {
          "base_uri": "https://localhost:8080/",
          "height": 265
        },
        "outputId": "7d2d6e39-046e-45b6-ef33-cb6c73ac92c8"
      },
      "source": [
        "plt.plot(hist_train, label='train')\n",
        "plt.plot(hist_test, label='test')\n",
        "le = plt.legend()\n",
        "plt.show()"
      ],
      "execution_count": 7,
      "outputs": [
        {
          "output_type": "display_data",
          "data": {
            "image/png": "[encoded data removed]",
            "text/plain": [
              "<Figure size 432x288 with 1 Axes>"
            ]
          },
          "metadata": {
            "tags": []
          }
        }
      ]
    },
    {
      "cell_type": "code",
      "metadata": {
        "id": "9EUvyz7HDE_E",
        "colab_type": "code",
        "outputId": "09ad316f-18c1-42ff-d508-0d50a18ca45f",
        "colab": {
          "base_uri": "https://localhost:8080/",
          "height": 282
        }
      },
      "source": [
        "model.eval()\n",
        "x_train, y_train = dataloader.dataset[0]\n",
        "data = model(x_train.view(-1, 28*28).to(device)).detach()[0]\n",
        "print(torch.argmax(data))\n",
        "plt.imshow(x_train[0], cmap='Greys')\n",
        "plt.show()"
      ],
      "execution_count": 8,
      "outputs": [
        {
          "output_type": "stream",
          "text": [
            "tensor(5, device='cuda:0')\n"
          ],
          "name": "stdout"
        },
        {
          "output_type": "display_data",
          "data": {
            "image/png": "[encoded data removed]",
            "text/plain": [
              "<Figure size 432x288 with 1 Axes>"
            ]
          },
          "metadata": {
            "tags": []
          }
        }
      ]
    },
    {
      "cell_type": "code",
      "metadata": {
        "id": "f4DNvaVqYh5M",
        "colab_type": "code",
        "colab": {
          "base_uri": "https://localhost:8080/",
          "height": 35
        },
        "outputId": "836a755e-4eba-4deb-d7a5-d66dfe1660d1"
      },
      "source": [
        "model.eval()\n",
        "pred = model(mnist_train.data.view(-1,28*28).float().to(device)).detach()\n",
        "print('Train Accuracy : %.2f%%'%((mnist_train.targets.to(device) == torch.argmax(pred, 1)).float().mean().item()*100))"
      ],
      "execution_count": 9,
      "outputs": [
        {
          "output_type": "stream",
          "text": [
            "Train Accuracy : 92.11%\n"
          ],
          "name": "stdout"
        }
      ]
    },
    {
      "cell_type": "code",
      "metadata": {
        "id": "jh2KQIKfDs5C",
        "colab_type": "code",
        "outputId": "47e9056c-79bb-4a89-8e78-27cdf26db333",
        "colab": {
          "base_uri": "https://localhost:8080/",
          "height": 35
        }
      },
      "source": [
        "model.eval()\n",
        "pred = model(mnist_test.data.view(-1,28*28).float().to(device)).detach()\n",
        "print('Test Accuracy : %.2f%%'%((mnist_test.targets.to(device) == torch.argmax(pred, 1)).float().mean().item()*100))"
      ],
      "execution_count": 10,
      "outputs": [
        {
          "output_type": "stream",
          "text": [
            "Test Accuracy : 90.63%\n"
          ],
          "name": "stdout"
        }
      ]
    }
  ]
}